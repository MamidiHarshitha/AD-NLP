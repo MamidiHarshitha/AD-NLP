{
 "cells": [
  {
   "cell_type": "markdown",
   "id": "902fb6a8",
   "metadata": {},
   "source": [
    "# Python Practice Codes"
   ]
  },
  {
   "cell_type": "markdown",
   "id": "93239e8e",
   "metadata": {},
   "source": [
    "## Variables and Data Types"
   ]
  },
  {
   "cell_type": "code",
   "execution_count": null,
   "id": "2a31e985",
   "metadata": {},
   "outputs": [],
   "source": [
    "x = 5  # Integer\n",
    "name = 'Alice'  # String\n",
    "pi = 3.14  # Float\n",
    "is_valid = True  # Boolean"
   ]
  },
  {
   "cell_type": "markdown",
   "id": "0501ab70",
   "metadata": {},
   "source": [
    "## Control Flow"
   ]
  },
  {
   "cell_type": "code",
   "execution_count": null,
   "id": "e06bb8da",
   "metadata": {},
   "outputs": [],
   "source": [
    "if x > 3:\n",
    "    print('x is greater than 3')\n",
    "else:\n",
    "    print('x is less than or equal to 3')"
   ]
  },
  {
   "cell_type": "code",
   "execution_count": null,
   "id": "582a3a75",
   "metadata": {},
   "outputs": [],
   "source": [
    "for i in range(5):\n",
    "    print(i)"
   ]
  },
  {
   "cell_type": "markdown",
   "id": "deb307b7",
   "metadata": {},
   "source": [
    "## Functions"
   ]
  },
  {
   "cell_type": "code",
   "execution_count": null,
   "id": "689a57bd",
   "metadata": {},
   "outputs": [],
   "source": [
    "def greet(name):\n",
    "    return f'Hello, {name}!'\n",
    "greet('Alice')"
   ]
  },
  {
   "cell_type": "code",
   "execution_count": null,
   "id": "43c4bd71",
   "metadata": {},
   "outputs": [],
   "source": [
    "def add(a, b):\n",
    "    return a + b\n",
    "add(5, 3)"
   ]
  },
  {
   "cell_type": "markdown",
   "id": "f1614afd",
   "metadata": {},
   "source": [
    "## Lists"
   ]
  },
  {
   "cell_type": "code",
   "execution_count": null,
   "id": "73aca193",
   "metadata": {},
   "outputs": [],
   "source": [
    "fruits = ['apple', 'banana', 'cherry']\n",
    "fruits.append('orange')\n",
    "print(fruits)"
   ]
  },
  {
   "cell_type": "code",
   "execution_count": null,
   "id": "4338dd69",
   "metadata": {},
   "outputs": [],
   "source": [
    "numbers = [1, 2, 3, 4, 5]\n",
    "squares = [x**2 for x in numbers]\n",
    "print(squares)"
   ]
  }
 ],
 "metadata": {},
 "nbformat": 4,
 "nbformat_minor": 5
}
